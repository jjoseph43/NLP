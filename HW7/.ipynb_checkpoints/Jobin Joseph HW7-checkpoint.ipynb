{
 "cells": [
  {
   "cell_type": "markdown",
   "id": "a90e2186",
   "metadata": {},
   "source": [
    "Cluster the reviews that you collected in homework 5, by doing the following:\n",
    "\n",
    "\n"
   ]
  },
  {
   "cell_type": "markdown",
   "id": "201c15dc",
   "metadata": {},
   "source": [
    "##### 1.In Python, select any one of the clustering methods covered in this course. Run it over the collection of reviews, and show at least two different ways of clustering the reviews, e.g., changing k in k-Means clustering or changing where you “cut” in Agnes or Diana.  "
   ]
  },
  {
   "cell_type": "code",
   "execution_count": 13,
   "id": "c44e2872",
   "metadata": {},
   "outputs": [],
   "source": [
    "import re\n",
    "import matplotlib.pyplot as plt\n",
    "import seaborn as sns\n",
    "from sklearn.feature_extraction.text import TfidfVectorizer, CountVectorizer\n",
    "from sklearn.cluster import KMeans\n",
    "from bs4 import BeautifulSoup\n",
    "from requests import get\n",
    "\n",
    "import nltk\n",
    "from nltk.stem.wordnet import WordNetLemmatizer\n",
    "from nltk.corpus import stopwords\n",
    "\n",
    "\n",
    "url = 'https://www.imdb.com/list/ls095374765/?sort=moviemeter,asc&st_dt=&mode=grid&page=1&ref_=ttls_vw_smp&genres=Comedy'\n",
    "response = get(url)\n",
    "html_soupMain = BeautifulSoup(response.text, 'html.parser')"
   ]
  },
  {
   "cell_type": "code",
   "execution_count": 15,
   "id": "0e9b3a1b",
   "metadata": {},
   "outputs": [],
   "source": [
    "movieReview = []\n",
    "reviewTitle = []\n",
    "movieTitle = []"
   ]
  },
  {
   "cell_type": "code",
   "execution_count": 16,
   "id": "2542f780",
   "metadata": {},
   "outputs": [],
   "source": [
    "def list_Of_Reviews(website):\n",
    "    soup = BeautifulSoup(website, 'html.parser')\n",
    "\n",
    "    f = soup.find_all('div', class_='ipl-icon ipl-star-icon')\n",
    "    f = soup.find_all('span', class_=\"rating-other-user-rating\")#.find('span').text\n",
    "\n",
    "    idxPos = -1\n",
    "    idxNeg = -1\n",
    "\n",
    "    for idx, i in enumerate(f):\n",
    "        sp = (f[idx].text.split('/'))\n",
    "        sp = int(sp[0][-2:])\n",
    "        if sp > 8:\n",
    "            idxPos = idx\n",
    "        elif sp < 4:\n",
    "            idxNeg = idx\n",
    "    return([idxNeg,idxPos])"
   ]
  },
  {
   "cell_type": "code",
   "execution_count": 17,
   "id": "0d19ab50",
   "metadata": {},
   "outputs": [],
   "source": [
    "stop_words = set(stopwords.words(\"english\"))\n",
    "for div in html_soupMain.findAll('div', attrs={'class':'title'}):\n",
    "    if len(movieReview) > 98:\n",
    "        break\n",
    "    else:\n",
    "        url = 'https://www.imdb.com' + div.find('a')['href'] \n",
    "        url = url + 'reviews'\n",
    "        response = get(url)\n",
    "        html_soup = BeautifulSoup(response.text, 'html.parser')\n",
    "        review_containers = html_soup.find_all('div', class_='text show-more__control')\n",
    "        title_containers = html_soup.find_all( class_='title')\n",
    "        \n",
    "        reviewIndex = list_Of_Reviews(response.content)\n",
    "        reviewList = []\n",
    "        if reviewIndex[0] == -1 or reviewIndex[1] == -1:\n",
    "            pass\n",
    "        else:\n",
    "            reviewList.append(review_containers[reviewIndex[0]].text)\n",
    "            reviewList.append(review_containers[reviewIndex[1]].text)\n",
    "            reviewTitle.append(title_containers[reviewIndex[0]].string + ' -')\n",
    "            reviewTitle.append(title_containers[reviewIndex[1]].string + ' +')\n",
    "            movieTitle.append(div.string + ' -')\n",
    "            movieTitle.append(div.string + ' +')\n",
    "            count =+ 2\n",
    "            for i in reviewList:\n",
    "                review = i.lower()\n",
    "                #remove punctuation\n",
    "                review = re.sub('[^a-zA-Z]', ' ', review)\n",
    "                \n",
    "                #remove tags\n",
    "                review = re.sub(\"&lt;/?.*?&gt;\",\" &lt;&gt; \",review)\n",
    "\n",
    "                #remove special characters and digits\n",
    "                review = re.sub(\"(\\\\d|\\\\W)+\",\" \",review)\n",
    "\n",
    "                split_text = review.split()\n",
    "                \n",
    "                #Lemmatisation\n",
    "                lem = WordNetLemmatizer()\n",
    "                split_text = [lem.lemmatize(word) for word in split_text if not word in stop_words and len(word) >2] \n",
    "                split_text = \" \".join(split_text)\n",
    "                movieReview.append(split_text)"
   ]
  },
  {
   "cell_type": "code",
   "execution_count": 19,
   "id": "9260690d",
   "metadata": {},
   "outputs": [
    {
     "name": "stdout",
     "output_type": "stream",
     "text": [
      "100\n"
     ]
    }
   ],
   "source": [
    "print(len(movieReview))"
   ]
  },
  {
   "cell_type": "code",
   "execution_count": 22,
   "id": "a40e77b9",
   "metadata": {},
   "outputs": [],
   "source": [
    "#Here we are calling in a TF-IDF vectorizer to transform the data\n",
    "from sklearn.feature_extraction.text import TfidfVectorizer\n",
    "tfv = TfidfVectorizer(stop_words = {'english'})#stop_words, ngram_range = (1,1))#transform\n",
    "vec_text = tfv.fit_transform(movieReview)#returns a list of words.\n",
    "words = tfv.get_feature_names()\n",
    "X = vec_text"
   ]
  },
  {
   "cell_type": "markdown",
   "id": "7fa2cb43",
   "metadata": {},
   "source": [
    "## Running with K = 8 centriods"
   ]
  },
  {
   "cell_type": "code",
   "execution_count": 42,
   "id": "d04c4137",
   "metadata": {},
   "outputs": [
    {
     "data": {
      "text/html": [
       "<div>\n",
       "<style scoped>\n",
       "    .dataframe tbody tr th:only-of-type {\n",
       "        vertical-align: middle;\n",
       "    }\n",
       "\n",
       "    .dataframe tbody tr th {\n",
       "        vertical-align: top;\n",
       "    }\n",
       "\n",
       "    .dataframe thead th {\n",
       "        text-align: right;\n",
       "    }\n",
       "</style>\n",
       "<table border=\"1\" class=\"dataframe\">\n",
       "  <thead>\n",
       "    <tr style=\"text-align: right;\">\n",
       "      <th></th>\n",
       "      <th>Movie</th>\n",
       "      <th>Review title</th>\n",
       "      <th>cluster</th>\n",
       "    </tr>\n",
       "  </thead>\n",
       "  <tbody>\n",
       "    <tr>\n",
       "      <th>70</th>\n",
       "      <td>Teen Titans GO! To the Movies -</td>\n",
       "      <td>Teen Titans Go! To the Movies: #cringe\\n -</td>\n",
       "      <td>0</td>\n",
       "    </tr>\n",
       "    <tr>\n",
       "      <th>51</th>\n",
       "      <td>Zoom +</td>\n",
       "      <td>Dumber Than a Speeding Bullet.\\n +</td>\n",
       "      <td>0</td>\n",
       "    </tr>\n",
       "    <tr>\n",
       "      <th>46</th>\n",
       "      <td>Inspector Gadget -</td>\n",
       "      <td>Not as bad as some say, but it could have bee...</td>\n",
       "      <td>0</td>\n",
       "    </tr>\n",
       "    <tr>\n",
       "      <th>61</th>\n",
       "      <td>Hobo with a Shotgun +</td>\n",
       "      <td>Hobo With Hauer!\\n +</td>\n",
       "      <td>0</td>\n",
       "    </tr>\n",
       "    <tr>\n",
       "      <th>34</th>\n",
       "      <td>Spies Like Us -</td>\n",
       "      <td>Chump-comedy with beleaguered leads...\\n -</td>\n",
       "      <td>0</td>\n",
       "    </tr>\n",
       "    <tr>\n",
       "      <th>...</th>\n",
       "      <td>...</td>\n",
       "      <td>...</td>\n",
       "      <td>...</td>\n",
       "    </tr>\n",
       "    <tr>\n",
       "      <th>73</th>\n",
       "      <td>Cocoon: The Return +</td>\n",
       "      <td>More ETs going home\\n +</td>\n",
       "      <td>7</td>\n",
       "    </tr>\n",
       "    <tr>\n",
       "      <th>16</th>\n",
       "      <td>The 'Burbs -</td>\n",
       "      <td>The *other* (superior) 80s Tom Hanks movie in...</td>\n",
       "      <td>7</td>\n",
       "    </tr>\n",
       "    <tr>\n",
       "      <th>81</th>\n",
       "      <td>Deathstalker II +</td>\n",
       "      <td>Slightly better than the first\\n +</td>\n",
       "      <td>7</td>\n",
       "    </tr>\n",
       "    <tr>\n",
       "      <th>67</th>\n",
       "      <td>Captain Ron +</td>\n",
       "      <td>Not on my boat you don't\\n +</td>\n",
       "      <td>7</td>\n",
       "    </tr>\n",
       "    <tr>\n",
       "      <th>0</th>\n",
       "      <td>Hercules -</td>\n",
       "      <td>Bland and narrow animated Disney flick\\n -</td>\n",
       "      <td>7</td>\n",
       "    </tr>\n",
       "  </tbody>\n",
       "</table>\n",
       "<p>100 rows × 3 columns</p>\n",
       "</div>"
      ],
      "text/plain": [
       "                              Movie  \\\n",
       "70  Teen Titans GO! To the Movies -   \n",
       "51                           Zoom +   \n",
       "46               Inspector Gadget -   \n",
       "61            Hobo with a Shotgun +   \n",
       "34                  Spies Like Us -   \n",
       "..                              ...   \n",
       "73             Cocoon: The Return +   \n",
       "16                     The 'Burbs -   \n",
       "81                Deathstalker II +   \n",
       "67                    Captain Ron +   \n",
       "0                        Hercules -   \n",
       "\n",
       "                                         Review title  cluster  \n",
       "70         Teen Titans Go! To the Movies: #cringe\\n -        0  \n",
       "51                 Dumber Than a Speeding Bullet.\\n +        0  \n",
       "46   Not as bad as some say, but it could have bee...        0  \n",
       "61                               Hobo With Hauer!\\n +        0  \n",
       "34         Chump-comedy with beleaguered leads...\\n -        0  \n",
       "..                                                ...      ...  \n",
       "73                            More ETs going home\\n +        7  \n",
       "16   The *other* (superior) 80s Tom Hanks movie in...        7  \n",
       "81                 Slightly better than the first\\n +        7  \n",
       "67                       Not on my boat you don't\\n +        7  \n",
       "0          Bland and narrow animated Disney flick\\n -        7  \n",
       "\n",
       "[100 rows x 3 columns]"
      ]
     },
     "execution_count": 42,
     "metadata": {},
     "output_type": "execute_result"
    }
   ],
   "source": [
    "import pandas as pd\n",
    "true_k = 8\n",
    "model = KMeans(n_clusters=true_k, max_iter=200, n_init=10, tol = 0.001)\n",
    "model.fit(X)\n",
    "labels=model.labels_\n",
    "reviews_cl=pd.DataFrame(list(zip(movieTitle, reviewTitle,labels)),columns=['Movie','Review title','cluster'])\n",
    "reviews_cl.sort_values(by=['cluster'])"
   ]
  },
  {
   "cell_type": "code",
   "execution_count": 43,
   "id": "7102aed2",
   "metadata": {},
   "outputs": [
    {
     "name": "stdout",
     "output_type": "stream",
     "text": [
      "0 : disney, chase, zoom, chevy, played, movie, audience, superhero, sky, film\n",
      "1 : film, comedy, movie, one, really, good, bad, see, character, like\n",
      "2 : movie, film, one, funny, batman, still, character, great, get, effect\n",
      "3 : murder, mystery, joke, wild, family, ninja, europe, sandler, haru, incredibles\n",
      "4 : vacation, christmas, loved, vega, bit, family, movie, especially, light, clark\n",
      "5 : candy, john, rental, summer, film, levy, movie, chet, hear, bos\n",
      "6 : zorro, movie, good, nice, old, fashioned, justice, fight, thurman, director\n",
      "7 : first, movie, epic, watching, watch, even, maybe, part, like, parody\n"
     ]
    }
   ],
   "source": [
    "#here we can see the out put of the 8  k \n",
    "simmlar_words = model.cluster_centers_.argsort()[:,-1:-11:-1]\n",
    "for num, centroid in enumerate(simmlar_words):\n",
    "    print(str(num) + ' : ' + ', '.join(words[word] for word in centroid))"
   ]
  },
  {
   "cell_type": "markdown",
   "id": "9e134d2b",
   "metadata": {},
   "source": [
    "## Running with K = 4 centriods"
   ]
  },
  {
   "cell_type": "code",
   "execution_count": 44,
   "id": "8e6f263a",
   "metadata": {},
   "outputs": [
    {
     "data": {
      "text/html": [
       "<div>\n",
       "<style scoped>\n",
       "    .dataframe tbody tr th:only-of-type {\n",
       "        vertical-align: middle;\n",
       "    }\n",
       "\n",
       "    .dataframe tbody tr th {\n",
       "        vertical-align: top;\n",
       "    }\n",
       "\n",
       "    .dataframe thead th {\n",
       "        text-align: right;\n",
       "    }\n",
       "</style>\n",
       "<table border=\"1\" class=\"dataframe\">\n",
       "  <thead>\n",
       "    <tr style=\"text-align: right;\">\n",
       "      <th></th>\n",
       "      <th>Movie</th>\n",
       "      <th>Review title</th>\n",
       "      <th>cluster</th>\n",
       "    </tr>\n",
       "  </thead>\n",
       "  <tbody>\n",
       "    <tr>\n",
       "      <th>14</th>\n",
       "      <td>Howard the Duck -</td>\n",
       "      <td>Just really, really, really bad\\n -</td>\n",
       "      <td>0</td>\n",
       "    </tr>\n",
       "    <tr>\n",
       "      <th>63</th>\n",
       "      <td>The Castle +</td>\n",
       "      <td>Best Aussie movie ever\\n +</td>\n",
       "      <td>0</td>\n",
       "    </tr>\n",
       "    <tr>\n",
       "      <th>23</th>\n",
       "      <td>The Adventures of Sharkboy and Lavagirl 3-D +</td>\n",
       "      <td>Absolute phenomenal film, LOVED the 3d bluray...</td>\n",
       "      <td>0</td>\n",
       "    </tr>\n",
       "    <tr>\n",
       "      <th>21</th>\n",
       "      <td>Super +</td>\n",
       "      <td>Funny yet juvenile\\n +</td>\n",
       "      <td>0</td>\n",
       "    </tr>\n",
       "    <tr>\n",
       "      <th>36</th>\n",
       "      <td>National Lampoon's European Vacation -</td>\n",
       "      <td>Some funny stuff here!\\n -</td>\n",
       "      <td>0</td>\n",
       "    </tr>\n",
       "    <tr>\n",
       "      <th>...</th>\n",
       "      <td>...</td>\n",
       "      <td>...</td>\n",
       "      <td>...</td>\n",
       "    </tr>\n",
       "    <tr>\n",
       "      <th>4</th>\n",
       "      <td>Weird Science -</td>\n",
       "      <td>Brings New Meaning to \"Made to Order\"\\n -</td>\n",
       "      <td>3</td>\n",
       "    </tr>\n",
       "    <tr>\n",
       "      <th>35</th>\n",
       "      <td>Spies Like Us +</td>\n",
       "      <td>Past its sell-by, but still pretty good.\\n +</td>\n",
       "      <td>3</td>\n",
       "    </tr>\n",
       "    <tr>\n",
       "      <th>44</th>\n",
       "      <td>Summer Rental -</td>\n",
       "      <td>A prototype for John Candy's future success, ...</td>\n",
       "      <td>3</td>\n",
       "    </tr>\n",
       "    <tr>\n",
       "      <th>45</th>\n",
       "      <td>Summer Rental +</td>\n",
       "      <td>Always a welcome visit\\n +</td>\n",
       "      <td>3</td>\n",
       "    </tr>\n",
       "    <tr>\n",
       "      <th>75</th>\n",
       "      <td>Delirious +</td>\n",
       "      <td>Wonderful idea, executed with enthusiasm\\n +</td>\n",
       "      <td>3</td>\n",
       "    </tr>\n",
       "  </tbody>\n",
       "</table>\n",
       "<p>100 rows × 3 columns</p>\n",
       "</div>"
      ],
      "text/plain": [
       "                                            Movie  \\\n",
       "14                              Howard the Duck -   \n",
       "63                                   The Castle +   \n",
       "23  The Adventures of Sharkboy and Lavagirl 3-D +   \n",
       "21                                        Super +   \n",
       "36         National Lampoon's European Vacation -   \n",
       "..                                            ...   \n",
       "4                                 Weird Science -   \n",
       "35                                Spies Like Us +   \n",
       "44                                Summer Rental -   \n",
       "45                                Summer Rental +   \n",
       "75                                    Delirious +   \n",
       "\n",
       "                                         Review title  cluster  \n",
       "14                Just really, really, really bad\\n -        0  \n",
       "63                         Best Aussie movie ever\\n +        0  \n",
       "23   Absolute phenomenal film, LOVED the 3d bluray...        0  \n",
       "21                             Funny yet juvenile\\n +        0  \n",
       "36                         Some funny stuff here!\\n -        0  \n",
       "..                                                ...      ...  \n",
       "4           Brings New Meaning to \"Made to Order\"\\n -        3  \n",
       "35       Past its sell-by, but still pretty good.\\n +        3  \n",
       "44   A prototype for John Candy's future success, ...        3  \n",
       "45                         Always a welcome visit\\n +        3  \n",
       "75       Wonderful idea, executed with enthusiasm\\n +        3  \n",
       "\n",
       "[100 rows x 3 columns]"
      ]
     },
     "execution_count": 44,
     "metadata": {},
     "output_type": "execute_result"
    }
   ],
   "source": [
    "import pandas as pd\n",
    "true_k = 4\n",
    "model = KMeans(n_clusters=true_k, max_iter=200, n_init=10, tol = 0.001)\n",
    "model.fit(X)\n",
    "labels=model.labels_\n",
    "reviews_cl=pd.DataFrame(list(zip(movieTitle, reviewTitle,labels)),columns=['Movie','Review title','cluster'])\n",
    "reviews_cl.sort_values(by=['cluster'])"
   ]
  },
  {
   "cell_type": "code",
   "execution_count": 46,
   "id": "0253d1e4",
   "metadata": {},
   "outputs": [],
   "source": [
    "#ouput for the 4 centroids from reviews"
   ]
  },
  {
   "cell_type": "code",
   "execution_count": 45,
   "id": "631be8d7",
   "metadata": {},
   "outputs": [
    {
     "name": "stdout",
     "output_type": "stream",
     "text": [
      "0 : movie, humor, fun, funny, like, bad, film, little, probably, batman\n",
      "1 : film, movie, one, character, first, thing, time, make, kid, like\n",
      "2 : movie, christmas, vacation, really, family, bit, light, ron, see, moore\n",
      "3 : candy, john, levy, rental, summer, film, movie, chet, good, hughes\n"
     ]
    }
   ],
   "source": [
    "simmlar_words = model.cluster_centers_.argsort()[:,-1:-11:-1]\n",
    "for num, centroid in enumerate(simmlar_words):\n",
    "    print(str(num) + ' : ' + ', '.join(words[word] for word in centroid))"
   ]
  },
  {
   "cell_type": "markdown",
   "id": "5ef37cf0",
   "metadata": {},
   "source": [
    "#### 2.\tTry to write a short phrase to characterize (give a natural interpretation of) what each cluster is generally centered on semantically. Is this hard to do in some cases? If so, make note of that fact. \n",
    "\n"
   ]
  },
  {
   "cell_type": "markdown",
   "id": "8bce48a5",
   "metadata": {},
   "source": [
    "In this assignment I used two kmeans clustering  to be able to cluster together the different  words in the  reviews and have similar reviews join into a cluster. In the  first model the K has been set to 8, which will then produce 8 different centroids. The first cluster is about superheroes  and Disney  that occur in the movie reviews. The second one  had a positive  or negative notation in reviews. The third on seemed to be about movies that  have a  lasting effect on the audience. The fourth cluster was hard to interpret . The fifth cluster is about  movies that are centered around holidays and how that makes sense as there are comedy’s that are about holidays. The sixth cluster is about  movie reviews with other characters that come up during the film and that usually these movies are rentals. The seventh  about  movies that are centered around a character  there is even a character such as zorro that comes up. Lastly  the eight cluster is about  some sub genres in comedy such as parody.\n",
    "\n",
    "I also did a clustering with 4 k means which allowed the model to make 4 different centroids. The first centroid  has to do with general ideas about the plot of the movie. The  second one is revies about more common review points such as time and how it plays into comedy reviews. The third centroid is about the common holidays that movies can be about. The last one is a centroid that came up similar to  the k means k 8 example this is about and some actors that might have played in them.\n"
   ]
  },
  {
   "cell_type": "markdown",
   "id": "b2d64375",
   "metadata": {},
   "source": [
    "\n",
    "#### 3.\tExplain which of the two clustering results from question 1 is preferable (if one of them is), and why. Submit all of your inputs and outputs and your code for this assignment, along with a brief written explanation of your findings. \n"
   ]
  },
  {
   "cell_type": "markdown",
   "id": "0cb3feba",
   "metadata": {},
   "source": [
    "\n",
    "I would say having the k means  set to 8  k seemed to be a lot more  efficient in a  better in finding the right reviews that associated together. The  k means that was set for only four might have clustering that  is too wide and when you made a EDA you might  not enough information.  This can be readjusted in order to  have to work in different use cases which can be very helpful in the future based on business needs.\n"
   ]
  },
  {
   "cell_type": "code",
   "execution_count": null,
   "id": "ac7aa45c",
   "metadata": {},
   "outputs": [],
   "source": []
  }
 ],
 "metadata": {
  "kernelspec": {
   "display_name": "Python 3",
   "language": "python",
   "name": "python3"
  },
  "language_info": {
   "codemirror_mode": {
    "name": "ipython",
    "version": 3
   },
   "file_extension": ".py",
   "mimetype": "text/x-python",
   "name": "python",
   "nbconvert_exporter": "python",
   "pygments_lexer": "ipython3",
   "version": "3.8.8"
  }
 },
 "nbformat": 4,
 "nbformat_minor": 5
}
