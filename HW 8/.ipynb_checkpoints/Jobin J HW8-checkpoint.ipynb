{
 "cells": [
  {
   "cell_type": "markdown",
   "id": "a96c6190",
   "metadata": {},
   "source": [
    "First part is the  list of movie reviews from HW7 "
   ]
  },
  {
   "cell_type": "code",
   "execution_count": 1,
   "id": "3ef68645",
   "metadata": {},
   "outputs": [],
   "source": [
    "import re\n",
    "import matplotlib.pyplot as plt\n",
    "import seaborn as sns\n",
    "from sklearn.feature_extraction.text import TfidfVectorizer, CountVectorizer\n",
    "from sklearn.cluster import KMeans\n",
    "from bs4 import BeautifulSoup\n",
    "from requests import get\n",
    "\n",
    "import nltk\n",
    "from nltk.stem.wordnet import WordNetLemmatizer\n",
    "from nltk.corpus import stopwords\n",
    "import pandas as pd\n",
    "\n",
    "\n",
    "url = 'https://www.imdb.com/list/ls095374765/?sort=moviemeter,asc&st_dt=&mode=grid&page=1&ref_=ttls_vw_smp&genres=Comedy'\n",
    "response = get(url)\n",
    "html_soupMain = BeautifulSoup(response.text, 'html.parser')"
   ]
  },
  {
   "cell_type": "code",
   "execution_count": 2,
   "id": "5660862e",
   "metadata": {},
   "outputs": [],
   "source": [
    "movieReview = []\n",
    "reviewTitle = []\n",
    "movieTitle = []"
   ]
  },
  {
   "cell_type": "code",
   "execution_count": 3,
   "id": "8f501d32",
   "metadata": {},
   "outputs": [],
   "source": [
    "def list_Of_Reviews(website):\n",
    "    soup = BeautifulSoup(website, 'html.parser')\n",
    "\n",
    "    f = soup.find_all('div', class_='ipl-icon ipl-star-icon')\n",
    "    f = soup.find_all('span', class_=\"rating-other-user-rating\")#.find('span').text\n",
    "\n",
    "    idxPos = -1\n",
    "    idxNeg = -1\n",
    "\n",
    "    for idx, i in enumerate(f):\n",
    "        sp = (f[idx].text.split('/'))\n",
    "        sp = int(sp[0][-2:])\n",
    "        if sp > 8:\n",
    "            idxPos = idx\n",
    "        elif sp < 4:\n",
    "            idxNeg = idx\n",
    "    return([idxNeg,idxPos])"
   ]
  },
  {
   "cell_type": "code",
   "execution_count": 4,
   "id": "f70598a9",
   "metadata": {},
   "outputs": [],
   "source": [
    "stop_words = set(stopwords.words(\"english\"))\n",
    "for div in html_soupMain.findAll('div', attrs={'class':'title'}):\n",
    "    if len(movieReview) > 98:\n",
    "        break\n",
    "    else:\n",
    "        url = 'https://www.imdb.com' + div.find('a')['href'] \n",
    "        url = url + 'reviews'\n",
    "        response = get(url)\n",
    "        html_soup = BeautifulSoup(response.text, 'html.parser')\n",
    "        review_containers = html_soup.find_all('div', class_='text show-more__control')\n",
    "        title_containers = html_soup.find_all( class_='title')\n",
    "        \n",
    "        reviewIndex = list_Of_Reviews(response.content)\n",
    "        reviewList = []\n",
    "        if reviewIndex[0] == -1 or reviewIndex[1] == -1:\n",
    "            pass\n",
    "        else:\n",
    "            reviewList.append(review_containers[reviewIndex[0]].text)\n",
    "            reviewList.append(review_containers[reviewIndex[1]].text)\n",
    "            reviewTitle.append(title_containers[reviewIndex[0]].string + ' -')\n",
    "            reviewTitle.append(title_containers[reviewIndex[1]].string + ' +')\n",
    "            movieTitle.append(div.string + ' -')\n",
    "            movieTitle.append(div.string + ' +')\n",
    "            count =+ 2\n",
    "            for i in reviewList:\n",
    "                review = i.lower()\n",
    "                #remove punctuation\n",
    "                review = re.sub('[^a-zA-Z]', ' ', review)\n",
    "                \n",
    "                #remove tags\n",
    "                review = re.sub(\"&lt;/?.*?&gt;\",\" &lt;&gt; \",review)\n",
    "\n",
    "                #remove special characters and digits\n",
    "                review = re.sub(\"(\\\\d|\\\\W)+\",\" \",review)\n",
    "\n",
    "                split_text = review.split()\n",
    "                \n",
    "                #Lemmatize\n",
    "                lem = WordNetLemmatizer()\n",
    "                split_text = [lem.lemmatize(word) for word in split_text if not word in stop_words and len(word) >2] \n",
    "                split_text = \" \".join(split_text)\n",
    "                movieReview.append(split_text)"
   ]
  },
  {
   "cell_type": "code",
   "execution_count": 5,
   "id": "15c3b8f2",
   "metadata": {},
   "outputs": [
    {
     "name": "stdout",
     "output_type": "stream",
     "text": [
      "100\n"
     ]
    }
   ],
   "source": [
    "print(len(movieReview))"
   ]
  },
  {
   "cell_type": "markdown",
   "id": "364f8e47",
   "metadata": {},
   "source": [
    "#### 1.\tIn Python, load one of the sentiment vocabularies referenced in the textbook, and run the sentiment analyzer as explained in the corresponding reference. Add words to the sentiment vocabulary, if you think you need to, to better fit your particular text collection."
   ]
  },
  {
   "cell_type": "code",
   "execution_count": 6,
   "id": "167ab5ea",
   "metadata": {},
   "outputs": [],
   "source": [
    "#I am going to use TfidfVectorizer this time\n",
    "vectorizer = TfidfVectorizer(stop_words={'english'})\n",
    "movieList_v = vectorizer.fit_transform(movieReview)"
   ]
  },
  {
   "cell_type": "code",
   "execution_count": 7,
   "id": "942fac9f",
   "metadata": {},
   "outputs": [
    {
     "data": {
      "image/png": "[encoded data removed]",
      "text/plain": [
       "<Figure size 432x288 with 1 Axes>"
      ]
     },
     "metadata": {
      "needs_background": "light"
     },
     "output_type": "display_data"
    }
   ],
   "source": [
    "import matplotlib.pyplot as plt\n",
    "from sklearn.cluster import KMeans\n",
    "\n",
    "Sum_of_squared_distances = []\n",
    "X = movieList_v\n",
    "K = range(2,15)\n",
    "for k in K:\n",
    "    km = KMeans(n_clusters=k, max_iter=200, n_init=10)\n",
    "    km = km.fit(X)\n",
    "    Sum_of_squared_distances.append(km.inertia_)\n",
    "    \n",
    "plt.plot(K, Sum_of_squared_distances, 'bx-')\n",
    "plt.xlabel('K')\n",
    "plt.ylabel('Distance')\n",
    "plt.title('Best K ')\n",
    "plt.show()"
   ]
  },
  {
   "cell_type": "markdown",
   "id": "e288a983",
   "metadata": {},
   "source": [
    "It  looks to me that 10 clusters seem to be the point  that works the best. "
   ]
  },
  {
   "cell_type": "code",
   "execution_count": 8,
   "id": "2c61d803",
   "metadata": {},
   "outputs": [
    {
     "name": "stdout",
     "output_type": "stream",
     "text": [
      "                                   Movie Title  Cluster\n",
      "49                       Hobo with a Shotgun +        0\n",
      "43                               Wagons East +        0\n",
      "45  The SpongeBob Movie: Sponge Out of Water +        0\n",
      "48                       Hobo with a Shotgun -        0\n",
      "50                                 The House -        0\n",
      "..                                         ...      ...\n",
      "55                                   Hatchet +        9\n",
      "73                            Victor Crowley +        9\n",
      "72                            Victor Crowley -        9\n",
      "94                                  Blankman -        9\n",
      "67                 The Return of Swamp Thing +        9\n",
      "\n",
      "[100 rows x 2 columns]\n"
     ]
    }
   ],
   "source": [
    "k = 10\n",
    "model = KMeans(n_clusters=k, max_iter=200, n_init=10, tol = 0.001)\n",
    "mod_8 = model.fit(X)\n",
    "labels=model.labels_\n",
    "\n",
    "review_clusters = pd.DataFrame(list(zip(movieTitle, labels)),columns=['Movie Title','Cluster'])\n",
    "print(review_clusters.sort_values(by=['Cluster']))"
   ]
  },
  {
   "cell_type": "code",
   "execution_count": 9,
   "id": "e6d08bbb",
   "metadata": {},
   "outputs": [
    {
     "name": "stdout",
     "output_type": "stream",
     "text": [
      "Cluster 0: movie, one, see, hobo, really, made, great, actor, like\n",
      "Cluster 1: first, get, like, boring, film, alien, good, sequel, classic\n",
      "Cluster 2: movie, scene, john, laughing, laughed, comedy, candy, good, biography\n",
      "Cluster 3: money, film, watch, potty, actually, funny, people, version, zorro\n",
      "Cluster 4: cartoon, gadget, film, lot, thought, liked, entertaining, movie, nice\n",
      "Cluster 5: kid, spy, film, movie, like, good, science, old, adult\n",
      "Cluster 6: thurman, uma, power, girlfriend, wood, super, matt, shoot, eddie\n",
      "Cluster 7: fan, rock, song, honestly, titan, lego, enjoy, pootie, clever\n",
      "Cluster 8: spongebob, zoom, minute, could, actual, first, attempt, fart, ttgo\n",
      "Cluster 9: still, gore, one, hatchet, victor, humour, crowley, franchise, made\n"
     ]
    }
   ],
   "source": [
    "often_words = mod_8.cluster_centers_.argsort()[:,-1:-10:-1]\n",
    "\n",
    "word_features = vectorizer.get_feature_names()\n",
    "\n",
    "for cluster_group, centroid in enumerate(often_words):\n",
    "    print(f\"Cluster {cluster_group}: {', '.join(word_features[word] for word in centroid)}\")"
   ]
  },
  {
   "cell_type": "code",
   "execution_count": 10,
   "id": "b6ec4c23",
   "metadata": {},
   "outputs": [],
   "source": [
    "result={'cluster':labels,'Movie Reviews':movieReview}\n",
    "result=pd.DataFrame(result)"
   ]
  },
  {
   "cell_type": "code",
   "execution_count": 11,
   "id": "00fc9506",
   "metadata": {},
   "outputs": [
    {
     "name": "stderr",
     "output_type": "stream",
     "text": [
      "[nltk_data] Downloading package vader_lexicon to\n",
      "[nltk_data]     C:\\Users\\jjose\\AppData\\Roaming\\nltk_data...\n",
      "[nltk_data]   Package vader_lexicon is already up-to-date!\n"
     ]
    },
    {
     "data": {
      "text/plain": [
       "True"
      ]
     },
     "execution_count": 11,
     "metadata": {},
     "output_type": "execute_result"
    }
   ],
   "source": [
    "#using the vader lexicon from NLTK\n",
    "nltk.download('vader_lexicon')\n",
    "\n"
   ]
  },
  {
   "cell_type": "code",
   "execution_count": 12,
   "id": "11552c1f",
   "metadata": {},
   "outputs": [],
   "source": [
    "from nltk.sentiment import SentimentIntensityAnalyzer\n",
    "SentiAnalyzer = SentimentIntensityAnalyzer()\n",
    "\n",
    "stopWords = stopwords.words(\"english\")\n",
    "stopWords.extend([w.lower() for w in nltk.corpus.names.words()])"
   ]
  },
  {
   "cell_type": "code",
   "execution_count": 13,
   "id": "18097601",
   "metadata": {},
   "outputs": [
    {
     "data": {
      "text/plain": [
       "0.6249"
      ]
     },
     "execution_count": 13,
     "metadata": {},
     "output_type": "execute_result"
    }
   ],
   "source": [
    "from statistics import mean, median\n",
    "def polarity_score(review):\n",
    "    scores = [\n",
    "      SentiAnalyzer.polarity_scores(sentence)[\"compound\"]\n",
    "        for sentence in [w for w in nltk.sent_tokenize(review) if not w in stopWords]\n",
    "    ]\n",
    "    return mean(scores)\n",
    "#emaple of polartiy\n",
    "polarity_score('THe weather outside was great')"
   ]
  },
  {
   "cell_type": "code",
   "execution_count": 14,
   "id": "c4b907fc",
   "metadata": {
    "scrolled": true
   },
   "outputs": [
    {
     "name": "stdout",
     "output_type": "stream",
     "text": [
      "    cluster                                      Movie Reviews   Score\n",
      "0         3     save money watch disney version robin williams  0.4939\n",
      "1         4  aladdin latest disney remake based animated fi...  0.9939\n",
      "2         5  sure weird science spectacular film never ment...  0.9892\n",
      "3         2  one favorite john hughes movie happily marries...  0.9716\n",
      "4         0  comedy funny guess soon deed done much left ca...  0.7430\n",
      "..      ...                                                ...     ...\n",
      "95        0  movie great always thought damon wayans funny ...  0.9973\n",
      "96        0  hard recommend movie beyond general nostalgia ... -0.4627\n",
      "97        2  motley collection petrolheads compete illegal ...  0.8484\n",
      "98        3  straight filming sea release onvhs bargain bin...  0.4019\n",
      "99        2  laughed hard many time watching movie wrong re...  0.8689\n",
      "\n",
      "[100 rows x 3 columns]\n"
     ]
    }
   ],
   "source": [
    "SentimentScore = []\n",
    "for review in movieReview:\n",
    "    score = polarity_score(review)\n",
    "    SentimentScore.append(score)\n",
    "\n",
    "result['Score'] = SentimentScore\n",
    "print(result)"
   ]
  },
  {
   "cell_type": "markdown",
   "id": "fa84ae0b",
   "metadata": {},
   "source": [
    "#### Vader was used to help  with the senitment analysis . It come from the  NLTK  pakage, It is good with smaller text sizes like this , and can be more causal than ther  other methods."
   ]
  },
  {
   "cell_type": "markdown",
   "id": "e410be3b",
   "metadata": {},
   "source": [
    "## 2.\tFor each of the clusters you created in homework 7, compute the average, median, high, and low sentiment scores for each cluster. Explain whether you think this reveals anything interesting about the clusters.\n",
    "\n"
   ]
  },
  {
   "cell_type": "code",
   "execution_count": 15,
   "id": "29f17e05",
   "metadata": {
    "scrolled": true
   },
   "outputs": [
    {
     "name": "stdout",
     "output_type": "stream",
     "text": [
      "            Score                         \n",
      "             mean   median     min     max\n",
      "cluster                                   \n",
      "0        0.498152  0.88090 -0.9726  0.9973\n",
      "1        0.387973  0.71840 -0.9678  0.9983\n",
      "2        0.863343  0.96435 -0.2263  0.9954\n",
      "3        0.486600  0.78895 -0.7414  0.9909\n",
      "4        0.739400  0.99045 -0.9406  0.9945\n",
      "5        0.422273  0.94000 -0.9805  0.9892\n",
      "6        0.962800  0.98350  0.8910  0.9932\n",
      "7        0.688520  0.72690  0.3213  0.8860\n",
      "8       -0.229520 -0.81760 -0.9531  0.9021\n",
      "9        0.901471  0.94670  0.6597  0.9805\n"
     ]
    }
   ],
   "source": [
    "cluster_Scores = result[['cluster','Score']]\n",
    "cluster_Group_Scores = cluster_Scores.groupby(\"cluster\").agg({'Score': ['mean', 'median', 'min', 'max']})\n",
    "print(cluster_Group_Scores)"
   ]
  },
  {
   "cell_type": "markdown",
   "id": "5f686006",
   "metadata": {},
   "source": [
    "Here we can see all the different types of clusters that have been forming. We can see that many  of these reviews are in fact on the positive side in general. Out  of these 10  clusters you can see that it  is mostly positive in general . The  only cluster that was negative is the  cluster number 2. By  using vader  and  clustering it  allows us to identify groups  that have similar feelings. "
   ]
  },
  {
   "cell_type": "raw",
   "id": "6d20e019",
   "metadata": {},
   "source": []
  }
 ],
 "metadata": {
  "kernelspec": {
   "display_name": "Python 3",
   "language": "python",
   "name": "python3"
  },
  "language_info": {
   "codemirror_mode": {
    "name": "ipython",
    "version": 3
   },
   "file_extension": ".py",
   "mimetype": "text/x-python",
   "name": "python",
   "nbconvert_exporter": "python",
   "pygments_lexer": "ipython3",
   "version": "3.8.8"
  }
 },
 "nbformat": 4,
 "nbformat_minor": 5
}
